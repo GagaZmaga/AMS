{
 "cells": [
  {
   "cell_type": "code",
   "execution_count": 4,
   "metadata": {},
   "outputs": [],
   "source": [
    "import torch\n",
    "num_samples = 10\n",
    "lung_images = [torch.rand(1, 175, 175, 175) for _ in range(num_samples)]\n",
    "lung_masks = [(torch.rand(1, 175, 175, 175) > 0.5).float() for _ in range(num_samples)]\n",
    "\n",
    "torch.save(lung_images, \"/Users/gal/Desktop/DEV/Programiranje/Faks/Drugi_letnik/AMS/GIT/results/lungs_train_2xdown_scaled\")\n",
    "torch.save(lung_masks, \"/Users/gal/Desktop/DEV/Programiranje/Faks/Drugi_letnik/AMS/GIT/results/lungs_seg_train_2xdown_scaled\")\n"
   ]
  },
  {
   "cell_type": "code",
   "execution_count": null,
   "metadata": {},
   "outputs": [],
   "source": []
  }
 ],
 "metadata": {
  "kernelspec": {
   "display_name": ".venv",
   "language": "python",
   "name": "python3"
  },
  "language_info": {
   "codemirror_mode": {
    "name": "ipython",
    "version": 3
   },
   "file_extension": ".py",
   "mimetype": "text/x-python",
   "name": "python",
   "nbconvert_exporter": "python",
   "pygments_lexer": "ipython3",
   "version": "3.12.0"
  }
 },
 "nbformat": 4,
 "nbformat_minor": 2
}
