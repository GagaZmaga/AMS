{
 "cells": [
  {
   "cell_type": "code",
   "execution_count": 21,
   "id": "0502c40d",
   "metadata": {},
   "outputs": [
    {
     "name": "stdout",
     "output_type": "stream",
     "text": [
      "[]\n"
     ]
    }
   ],
   "source": [
    "import matplotlib.pyplot as plt\n",
    "import torch\n",
    "curves2 = []\n",
    "import glob\n",
    "curves2 = [torch.load(f) for f in glob.glob(\"results/Poskus/curves.trch\")] #results/affine_3x3_manyruns*/curves.trch\n",
    "\n",
    "plt.rcParams[\"figure.figsize\"] = (3,2)\n",
    "\n",
    "print(glob.glob(\"results/*\"))"
   ]
  },
  {
   "cell_type": "code",
   "execution_count": 18,
   "id": "d89382c2",
   "metadata": {},
   "outputs": [
    {
     "ename": "IndexError",
     "evalue": "list index out of range",
     "output_type": "error",
     "traceback": [
      "\u001b[0;31m---------------------------------------------------------------------------\u001b[0m",
      "\u001b[0;31mIndexError\u001b[0m                                Traceback (most recent call last)",
      "Cell \u001b[0;32mIn[18], line 1\u001b[0m\n\u001b[0;32m----> 1\u001b[0m experiments \u001b[38;5;241m=\u001b[39m \u001b[38;5;28mlist\u001b[39m(\u001b[43mcurves2\u001b[49m\u001b[43m[\u001b[49m\u001b[38;5;241;43m0\u001b[39;49m\u001b[43m]\u001b[49m\u001b[38;5;241m.\u001b[39mkeys())\n\u001b[1;32m      2\u001b[0m \u001b[38;5;28;01mfor\u001b[39;00m j, experiment_name \u001b[38;5;129;01min\u001b[39;00m \u001b[38;5;28menumerate\u001b[39m(experiments):\n\u001b[1;32m      3\u001b[0m     \u001b[38;5;28;01mfor\u001b[39;00m i, metric_name \u001b[38;5;129;01min\u001b[39;00m \u001b[38;5;28menumerate\u001b[39m(curves2[\u001b[38;5;241m0\u001b[39m][experiments[\u001b[38;5;241m0\u001b[39m]][\u001b[38;5;241m0\u001b[39m]\u001b[38;5;241m.\u001b[39m_fields):\n",
      "\u001b[0;31mIndexError\u001b[0m: list index out of range"
     ]
    }
   ],
   "source": [
    "experiments = list(curves2[0].keys())\n",
    "for j, experiment_name in enumerate(experiments):\n",
    "    for i, metric_name in enumerate(curves2[0][experiments[0]][0]._fields):\n",
    "\n",
    "        plt.subplot(2, 3, i + 1)\n",
    "        for curves in curves2:\n",
    "\n",
    "\n",
    "                prop_cycle = plt.rcParams['axes.prop_cycle']\n",
    "                colors = prop_cycle.by_key()['color']\n",
    "                color = colors[j]\n",
    "                data = torch.tensor([getattr(val,metric_name) for val in curves[experiment_name]])\n",
    "                data = torch.nn.functional.conv1d(data[None], torch.ones((1, 1, 80)) / 80)[0]\n",
    "\n",
    "                plt.plot(data, c=color, alpha=.1)\n",
    "\n",
    "        if metric_name == \"inverse_consistency_loss\":\n",
    "            plt.yscale(\"log\")\n",
    "\n",
    "\n",
    "\n",
    "\n",
    "\n",
    "        plt.title(metric_name)\n",
    "    plt.subplot(2, 3, 6)\n",
    "    plt.plot([[0 for y in experiment_name]])\n",
    "    #plt.legend([e[5:].split(\"_stepXX\")[0] +\" \" +e.split(\"XX\")[1] for e in experiments])\n",
    "    print(experiment_name)\n",
    "plt.show()\n",
    "\n"
   ]
  },
  {
   "cell_type": "code",
   "execution_count": 4,
   "id": "2223e782",
   "metadata": {},
   "outputs": [
    {
     "ename": "IndexError",
     "evalue": "list index out of range",
     "output_type": "error",
     "traceback": [
      "\u001b[0;31m---------------------------------------------------------------------------\u001b[0m",
      "\u001b[0;31mIndexError\u001b[0m                                Traceback (most recent call last)",
      "Cell \u001b[0;32mIn[4], line 1\u001b[0m\n\u001b[0;32m----> 1\u001b[0m experiments \u001b[38;5;241m=\u001b[39m \u001b[38;5;28mlist\u001b[39m(\u001b[43mcurves2\u001b[49m\u001b[43m[\u001b[49m\u001b[38;5;241;43m0\u001b[39;49m\u001b[43m]\u001b[49m\u001b[38;5;241m.\u001b[39mkeys())\n\u001b[1;32m      2\u001b[0m \u001b[38;5;66;03m#for i, metric_name in enumerate(curves2[0][experiments[0]][0]._fields):\u001b[39;00m\n\u001b[1;32m      4\u001b[0m line_styles \u001b[38;5;241m=\u001b[39m [\u001b[38;5;124m\"\u001b[39m\u001b[38;5;124msolid\u001b[39m\u001b[38;5;124m\"\u001b[39m, \u001b[38;5;124m\"\u001b[39m\u001b[38;5;124mdashed\u001b[39m\u001b[38;5;124m\"\u001b[39m, \u001b[38;5;124m\"\u001b[39m\u001b[38;5;124mdotted\u001b[39m\u001b[38;5;124m\"\u001b[39m]\n",
      "\u001b[0;31mIndexError\u001b[0m: list index out of range"
     ]
    }
   ],
   "source": [
    "experiments = list(curves2[0].keys())\n",
    "#for i, metric_name in enumerate(curves2[0][experiments[0]][0]._fields):\n",
    "\n",
    "line_styles = [\"solid\", \"dashed\", \"dotted\"]\n",
    "for i, metric_name in ((0, \"similarity_loss\"), (1, \"inverse_consistency_loss\")):\n",
    "    \n",
    "    \n",
    "    if metric_name != \"flips\":\n",
    "        \n",
    "        for j, experiment_name in enumerate(experiments):\n",
    "\n",
    "            prop_cycle = plt.rcParams['axes.prop_cycle']\n",
    "            colors = prop_cycle.by_key()['color']\n",
    "            color = colors[j // 3]\n",
    "\n",
    "            ddata = torch.tensor([0])\n",
    "\n",
    "            for curves in curves2:\n",
    "\n",
    "                data = torch.tensor([getattr(val,metric_name) for val in curves[experiment_name]])\n",
    "                data = torch.nn.functional.conv1d(data[None], torch.ones((1, 1, 11)) / 11)[0]\n",
    "\n",
    "                ddata = data + ddata\n",
    "            ddata = ddata / len(curves2)\n",
    "            \n",
    "            #if \"matrix\" in experiment_name or \"exp\" in experiment_name:\n",
    "            #    ddata = ddata[::2]\n",
    "            #else:\n",
    "            #    ddata = ddata[:len(ddata) // 2]\n",
    "\n",
    "            plt.plot(ddata, c=color, linestyle=line_styles[j % 3])\n",
    "\n",
    "        if metric_name == \"inverse_consistency_loss\":\n",
    "            plt.yscale(\"log\")\n",
    "            metric_name = \"inverse_consistency_error\"\n",
    "\n",
    "        #plt.title(metric_name.replace(\"_\", \" \"))\n",
    "        \n",
    "        if i == 0:\n",
    "            plt.title(\"Similarity Loss\")\n",
    "            #plt.legend([(\"direct\" if \"matrix\" in e[5:].split(\"_stepXX\")[0] else e[5:].split(\"_stepXX\")[0]) +\" \" +e.split(\"XX\")[1] for e in experiments])\n",
    "            #plt.legend([\"N(A, B)\", \"TS, N(A, B)\", \"TSC, N(A, B)\", \"exp(N(A, B))\", \"TS, exp(N(A, B))\", \"TSC, exp(N(A, B))\",\n",
    "            #            \"exp(N(A, B) - N(B, A))\", \"TS, exp(N(A, B) - N(B, A))\", \"TSC, exp(N(A, B) - N(B, A))\"], ncols=3)\n",
    "            plt.savefig(\"affine_3x3_paperfig_sim.pdf\", bbox_inches='tight')\n",
    "            plt.show()\n",
    "            plt.clf()\n",
    "        else:\n",
    "            plt.title(\"Inverse Consistency Error\")\n",
    "            plt.savefig(\"affine_3x3_paperfig_inverse.pdf\", bbox_inches='tight')\n",
    "\n",
    "\n",
    "\n",
    "\n",
    "#plt.subplot(1, 3, 3)\n",
    "#plt.xticks([])\n",
    "#plt.yticks([])\n",
    "\n",
    "#for j in range(9):\n",
    "#    plt.plot([0], c=colors[j // 3], linestyle=line_styles[j % 3])\n",
    "#plt.box(False)\n"
   ]
  },
  {
   "cell_type": "code",
   "execution_count": 176,
   "id": "e13c4532",
   "metadata": {},
   "outputs": [],
   "source": [
    "plt.plot?"
   ]
  },
  {
   "cell_type": "code",
   "execution_count": 5,
   "id": "f47e876b",
   "metadata": {},
   "outputs": [
    {
     "ename": "IndexError",
     "evalue": "list index out of range",
     "output_type": "error",
     "traceback": [
      "\u001b[0;31m---------------------------------------------------------------------------\u001b[0m",
      "\u001b[0;31mIndexError\u001b[0m                                Traceback (most recent call last)",
      "Cell \u001b[0;32mIn[5], line 1\u001b[0m\n\u001b[0;32m----> 1\u001b[0m experiments \u001b[38;5;241m=\u001b[39m \u001b[38;5;28mlist\u001b[39m(\u001b[43mcurves2\u001b[49m\u001b[43m[\u001b[49m\u001b[38;5;241;43m0\u001b[39;49m\u001b[43m]\u001b[49m\u001b[38;5;241m.\u001b[39mkeys())\n\u001b[1;32m      2\u001b[0m metric_name \u001b[38;5;241m=\u001b[39m \u001b[38;5;124m\"\u001b[39m\u001b[38;5;124msimilarity_loss\u001b[39m\u001b[38;5;124m\"\u001b[39m\n\u001b[1;32m      4\u001b[0m dddata \u001b[38;5;241m=\u001b[39m []\n",
      "\u001b[0;31mIndexError\u001b[0m: list index out of range"
     ]
    }
   ],
   "source": [
    "experiments = list(curves2[0].keys())\n",
    "metric_name = \"similarity_loss\"\n",
    "\n",
    "dddata = []\n",
    "for j, experiment_name in enumerate(experiments):\n",
    "\n",
    "    prop_cycle = plt.rcParams['axes.prop_cycle']\n",
    "    colors = prop_cycle.by_key()['color']\n",
    "    color = colors[j]\n",
    "\n",
    "    ddata = []\n",
    "\n",
    "    for curves in curves2:\n",
    "\n",
    "        data = [getattr(val,metric_name) for val in curves[experiment_name]][-1]\n",
    "\n",
    "        ddata.append(data)\n",
    "\n",
    "    dddata.append(ddata)\n",
    "\n",
    "violin_plot = plt.violinplot(dddata, bw_method=\"silverman\")\n",
    "if metric_name == \"inverse_consistency_loss\":\n",
    "    plt.yscale(\"log\")\n",
    "    metric_name = \"inverse_consistency_error\"\n",
    "\n",
    "plt.title(\"Distribution of Final Similarities\")\n",
    "\n",
    "hatches = [None, \"-\", \".\"]\n",
    "\n",
    "for i, pc in enumerate(violin_plot[\"bodies\"]):\n",
    "\n",
    "    pc.set_facecolor(colors[i // 3])\n",
    "    \n",
    "    #if hatches[i % 3]:\n",
    "    #    pc.set_hatch(hatches[i % 3])\n",
    "    #    pc.set_edgecolor(colors[i // 3])\n",
    "    \n",
    "\n",
    "violin_plot[\"cbars\"].set_linestyles(line_styles * 3)\n",
    "\n",
    "violin_plot[\"cbars\"].set_colors([colors[i // 3] for i in range(9)])\n",
    "violin_plot[\"cmins\"].set_colors([colors[i // 3] for i in range(9)])\n",
    "violin_plot[\"cmaxes\"].set_colors([colors[i // 3] for i in range(9)])\n",
    "\n",
    "plt.gca().tick_params(axis='x', colors='white')\n",
    "\n",
    "plt.savefig(\"affine_3x3_violin.pdf\", bbox_inches='tight')"
   ]
  },
  {
   "cell_type": "code",
   "execution_count": 159,
   "id": "4d6b32e3",
   "metadata": {},
   "outputs": [
    {
     "data": {
      "text/plain": [
       "65"
      ]
     },
     "execution_count": 159,
     "metadata": {},
     "output_type": "execute_result"
    }
   ],
   "source": [
    "len(curves2)"
   ]
  },
  {
   "cell_type": "code",
   "execution_count": 76,
   "id": "e0446c2b",
   "metadata": {},
   "outputs": [],
   "source": [
    "import seaborn as sns"
   ]
  },
  {
   "cell_type": "code",
   "execution_count": 148,
   "id": "611de338",
   "metadata": {},
   "outputs": [
    {
     "ename": "AttributeError",
     "evalue": "'dict' object has no attribute 'cbars'",
     "output_type": "error",
     "traceback": [
      "\u001b[0;31m---------------------------------------------------------------------------\u001b[0m",
      "\u001b[0;31mAttributeError\u001b[0m                            Traceback (most recent call last)",
      "Cell \u001b[0;32mIn[148], line 1\u001b[0m\n\u001b[0;32m----> 1\u001b[0m \u001b[43mviolin_plot\u001b[49m\u001b[38;5;241;43m.\u001b[39;49m\u001b[43mcbars\u001b[49m\u001b[38;5;241m.\u001b[39mset\n",
      "\u001b[0;31mAttributeError\u001b[0m: 'dict' object has no attribute 'cbars'"
     ]
    }
   ],
   "source": [
    "violin_plot[\"cbars\"].set_linestyles"
   ]
  },
  {
   "cell_type": "code",
   "execution_count": 185,
   "id": "5fc12e06",
   "metadata": {},
   "outputs": [
    {
     "data": {
      "image/png": "[encoded data removed]",
      "text/plain": [
       "<Figure size 300x100 with 1 Axes>"
      ]
     },
     "metadata": {},
     "output_type": "display_data"
    },
    {
     "data": {
      "text/plain": [
       "<Figure size 300x200 with 0 Axes>"
      ]
     },
     "metadata": {},
     "output_type": "display_data"
    }
   ],
   "source": [
    "plt.figure(figsize=(3, 1))\n",
    "experiments = list(curves2[0].keys())\n",
    "#for i, metric_name in enumerate(curves2[0][experiments[0]][0]._fields):\n",
    "\n",
    "line_styles = [\"solid\", \"dashed\", \"dotted\"]\n",
    "for i, metric_name in ((0, \"similarity_loss\"),):\n",
    "    \n",
    "    \n",
    "    if metric_name != \"flips\":\n",
    "        \n",
    "        for j, experiment_name in enumerate(experiments):\n",
    "\n",
    "            prop_cycle = plt.rcParams['axes.prop_cycle']\n",
    "            colors = prop_cycle.by_key()['color']\n",
    "            color = colors[j // 3]\n",
    "\n",
    "            ddata = torch.tensor([0])\n",
    "\n",
    "            for curves in curves2:\n",
    "\n",
    "                data = torch.tensor([getattr(val,metric_name) for val in curves[experiment_name]])\n",
    "                data = torch.nn.functional.conv1d(data[None], torch.ones((1, 1, 11)) / 11)[0]\n",
    "\n",
    "                ddata = data + ddata\n",
    "            ddata = ddata / len(curves2)\n",
    "            \n",
    "            ddata = [0]\n",
    "            \n",
    "            #if \"matrix\" in experiment_name or \"exp\" in experiment_name:\n",
    "            #    ddata = ddata[::2]\n",
    "            #else:\n",
    "            #    ddata = ddata[:len(ddata) // 2]\n",
    "\n",
    "            plt.plot(ddata, c=color, linestyle=line_styles[j % 3])\n",
    "\n",
    "        if metric_name == \"inverse_consistency_loss\":\n",
    "            plt.yscale(\"log\")\n",
    "            metric_name = \"inverse_consistency_error\"\n",
    "\n",
    "        plt.xticks([])\n",
    "        plt.yticks([])\n",
    "        \n",
    "        \n",
    "        if i == 0:\n",
    "            ax = plt.gca()\n",
    "            ax.spines['top'].set_visible(False)\n",
    "            ax.spines['right'].set_visible(False)\n",
    "            ax.spines['bottom'].set_visible(False)\n",
    "            ax.spines['left'].set_visible(False)\n",
    "            #plt.legend([(\"direct\" if \"matrix\" in e[5:].split(\"_stepXX\")[0] else e[5:].split(\"_stepXX\")[0]) +\" \" +e.split(\"XX\")[1] for e in experiments])\n",
    "            plt.legend([\"N(A, B)\", \"TS, N(A, B)\", \"TSC, N(A, B)\", \"exp(N(A, B))\", \"TS, exp(N(A, B))\", \"TSC, exp(N(A, B))\",\n",
    "                        \"exp(N(A, B) - N(B, A))\", \"TS, exp(N(A, B) - N(B, A))\", \"TSC, exp(N(A, B) - N(B, A))\"], ncols=3)\n",
    "            plt.savefig(\"affine_3x3_legend.pdf\", bbox_inches='tight')\n",
    "            plt.show()\n",
    "            plt.clf()\n",
    "        \n",
    "\n",
    "\n",
    "\n",
    "\n",
    "#plt.subplot(1, 3, 3)\n",
    "#plt.xticks([])\n",
    "#plt.yticks([])\n",
    "\n",
    "#for j in range(9):\n",
    "#    plt.plot([0], c=colors[j // 3], linestyle=line_styles[j % 3])\n",
    "#plt.box(False)\n"
   ]
  },
  {
   "cell_type": "code",
   "execution_count": 141,
   "id": "df4dada8",
   "metadata": {},
   "outputs": [],
   "source": [
    "pc.set_hatch?"
   ]
  },
  {
   "cell_type": "code",
   "execution_count": null,
   "id": "86c76b9d",
   "metadata": {},
   "outputs": [],
   "source": []
  }
 ],
 "metadata": {
  "kernelspec": {
   "display_name": ".venv",
   "language": "python",
   "name": "python3"
  },
  "language_info": {
   "codemirror_mode": {
    "name": "ipython",
    "version": 3
   },
   "file_extension": ".py",
   "mimetype": "text/x-python",
   "name": "python",
   "nbconvert_exporter": "python",
   "pygments_lexer": "ipython3",
   "version": "3.12.0"
  }
 },
 "nbformat": 4,
 "nbformat_minor": 5
}
